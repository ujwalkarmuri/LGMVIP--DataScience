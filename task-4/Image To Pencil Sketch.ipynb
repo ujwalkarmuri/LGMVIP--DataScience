{
 "cells": [
  {
   "cell_type": "code",
   "execution_count": 2,
   "id": "90a5fd7a",
   "metadata": {},
   "outputs": [],
   "source": [
    "import cv2"
   ]
  },
  {
   "cell_type": "code",
   "execution_count": 16,
   "id": "12ba49cf",
   "metadata": {},
   "outputs": [
    {
     "data": {
      "text/plain": [
       "-1"
      ]
     },
     "execution_count": 16,
     "metadata": {},
     "output_type": "execute_result"
    }
   ],
   "source": [
    "image1 = cv2.imread(\"bird.jpg\")\n",
    "cv2.imshow(\"Beautiful Bird\", image1)\n",
    "cv2.waitKey(0)"
   ]
  },
  {
   "cell_type": "code",
   "execution_count": 17,
   "id": "55304002",
   "metadata": {},
   "outputs": [
    {
     "data": {
      "text/plain": [
       "-1"
      ]
     },
     "execution_count": 17,
     "metadata": {},
     "output_type": "execute_result"
    }
   ],
   "source": [
    "image2 = cv2.imread(\"kid.jpg\")\n",
    "cv2.imshow(\"kid\", image2)\n",
    "cv2.waitKey(0)"
   ]
  },
  {
   "cell_type": "markdown",
   "id": "7a5c70e0",
   "metadata": {},
   "source": [
    "# Creating a new image by converting the original image to greyscale"
   ]
  },
  {
   "cell_type": "code",
   "execution_count": 18,
   "id": "f66dcd84",
   "metadata": {},
   "outputs": [
    {
     "data": {
      "text/plain": [
       "-1"
      ]
     },
     "execution_count": 18,
     "metadata": {},
     "output_type": "execute_result"
    }
   ],
   "source": [
    "gray_image1 = cv2.cvtColor(image1, cv2.COLOR_BGR2GRAY)\n",
    "cv2.imshow(\"New Beautiful Bird\", gray_image1)\n",
    "cv2.waitKey(0)"
   ]
  },
  {
   "cell_type": "code",
   "execution_count": 19,
   "id": "f4650bec",
   "metadata": {},
   "outputs": [
    {
     "data": {
      "text/plain": [
       "-1"
      ]
     },
     "execution_count": 19,
     "metadata": {},
     "output_type": "execute_result"
    }
   ],
   "source": [
    "gray_image2 = cv2.cvtColor(image2, cv2.COLOR_BGR2GRAY)\n",
    "cv2.imshow(\"New kid\", gray_image2)\n",
    "cv2.waitKey(0)"
   ]
  },
  {
   "cell_type": "markdown",
   "id": "e07e9913",
   "metadata": {},
   "source": [
    "# Inverting the new grayscale image"
   ]
  },
  {
   "cell_type": "code",
   "execution_count": 20,
   "id": "eca13df2",
   "metadata": {},
   "outputs": [
    {
     "data": {
      "text/plain": [
       "-1"
      ]
     },
     "execution_count": 20,
     "metadata": {},
     "output_type": "execute_result"
    }
   ],
   "source": [
    "inverted_image1 = 255 - gray_image1\n",
    "cv2.imshow(\"Inverted1\", inverted_image1)\n",
    "cv2.waitKey()"
   ]
  },
  {
   "cell_type": "code",
   "execution_count": 21,
   "id": "bfaac2a7",
   "metadata": {},
   "outputs": [
    {
     "data": {
      "text/plain": [
       "-1"
      ]
     },
     "execution_count": 21,
     "metadata": {},
     "output_type": "execute_result"
    }
   ],
   "source": [
    "inverted_image2 = 255 - gray_image2\n",
    "cv2.imshow(\"Inverted2\", inverted_image2)\n",
    "cv2.waitKey()"
   ]
  },
  {
   "cell_type": "markdown",
   "id": "659b9928",
   "metadata": {},
   "source": [
    "# Bluring the image by using the Gaussian Function in OpenCV"
   ]
  },
  {
   "cell_type": "code",
   "execution_count": 9,
   "id": "5592b5fb",
   "metadata": {},
   "outputs": [],
   "source": [
    "blurred1 = cv2.GaussianBlur(inverted_image1, (21, 21), 0)"
   ]
  },
  {
   "cell_type": "code",
   "execution_count": 10,
   "id": "e7ddf2bf",
   "metadata": {},
   "outputs": [],
   "source": [
    "blurred2 = cv2.GaussianBlur(inverted_image2, (21, 21), 0)"
   ]
  },
  {
   "cell_type": "markdown",
   "id": "6299d1e9",
   "metadata": {},
   "source": [
    "# Inverting the blurred image and then we can easily convert the image into a pencil sketch"
   ]
  },
  {
   "cell_type": "code",
   "execution_count": 22,
   "id": "77b22464",
   "metadata": {},
   "outputs": [
    {
     "data": {
      "text/plain": [
       "-1"
      ]
     },
     "execution_count": 22,
     "metadata": {},
     "output_type": "execute_result"
    }
   ],
   "source": [
    "inverted_blurred1 = 255 - blurred1\n",
    "pencil_sketch1 = cv2.divide(gray_image1, inverted_blurred1, scale=256.0)\n",
    "cv2.imshow(\"Sketch1\", pencil_sketch1)\n",
    "cv2.waitKey(0)"
   ]
  },
  {
   "cell_type": "code",
   "execution_count": 23,
   "id": "2aec28d8",
   "metadata": {},
   "outputs": [
    {
     "data": {
      "text/plain": [
       "-1"
      ]
     },
     "execution_count": 23,
     "metadata": {},
     "output_type": "execute_result"
    }
   ],
   "source": [
    "inverted_blurred2 = 255 - blurred2\n",
    "pencil_sketch2 = cv2.divide(gray_image2, inverted_blurred2, scale=256.0)\n",
    "cv2.imshow(\"Sketch2\", pencil_sketch2)\n",
    "cv2.waitKey(0)"
   ]
  },
  {
   "cell_type": "markdown",
   "id": "a7689aa5",
   "metadata": {},
   "source": [
    "# looking at both the original image and the pencil sketch"
   ]
  },
  {
   "cell_type": "code",
   "execution_count": 24,
   "id": "17e76955",
   "metadata": {},
   "outputs": [
    {
     "data": {
      "text/plain": [
       "-1"
      ]
     },
     "execution_count": 24,
     "metadata": {},
     "output_type": "execute_result"
    }
   ],
   "source": [
    "cv2.imshow(\"original image1\", image1)\n",
    "cv2.imshow(\"pencil sketch1\", pencil_sketch1)\n",
    "cv2.waitKey(0)"
   ]
  },
  {
   "cell_type": "code",
   "execution_count": 25,
   "id": "d04c893c",
   "metadata": {},
   "outputs": [
    {
     "data": {
      "text/plain": [
       "-1"
      ]
     },
     "execution_count": 25,
     "metadata": {},
     "output_type": "execute_result"
    }
   ],
   "source": [
    "cv2.imshow(\"original image2\", image2)\n",
    "cv2.imshow(\"pencil sketch2\", pencil_sketch2)\n",
    "cv2.waitKey(0)"
   ]
  },
  {
   "cell_type": "code",
   "execution_count": null,
   "id": "1b40fbd3",
   "metadata": {},
   "outputs": [],
   "source": []
  }
 ],
 "metadata": {
  "kernelspec": {
   "display_name": "Python 3 (ipykernel)",
   "language": "python",
   "name": "python3"
  },
  "language_info": {
   "codemirror_mode": {
    "name": "ipython",
    "version": 3
   },
   "file_extension": ".py",
   "mimetype": "text/x-python",
   "name": "python",
   "nbconvert_exporter": "python",
   "pygments_lexer": "ipython3",
   "version": "3.9.12"
  }
 },
 "nbformat": 4,
 "nbformat_minor": 5
}
